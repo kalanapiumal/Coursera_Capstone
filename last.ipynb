{
 "cells": [
  {
   "cell_type": "markdown",
   "metadata": {
    "collapsed": true
   },
   "source": [
    "## The Battle of the Neighborhoods - Week 2 - Boroughs of New York City"
   ]
  },
  {
   "cell_type": "markdown",
   "metadata": {},
   "source": [
    "## Introduction\n",
    "\n",
    "In this section of the capstone project, we will use the Foursquare API to explore neighborhoods in Brooklyn and Manhattan. We will use the **explore** function to get the most common venue categories in each neighborhood, and then use this feature to group the neighborhoods into clusters. We will use the *k*-means clustering algorithm to complete this task. Finally, we will use the Folium library to visualize the neighborhoods in Brooklyn and Manhattan and their emerging clusters."
   ]
  },
  {
   "cell_type": "markdown",
   "metadata": {},
   "source": [
    "## Table of Contents<Br>\n",
    "\n",
    "***1. Download and Explore Dataset***<Br>\n",
    "***2. Explore Neighborhoods in Brooklyn and Manhattan***<Br>\n",
    "***3. Analyze Each Neighborhood***<Br>\n",
    "***4. Cluster Neighborhoods and Examine Clusters***<Br>"
   ]
  },
  {
   "cell_type": "markdown",
   "metadata": {},
   "source": [
    "***Download all the dependencies that are needed.***"
   ]
  },
  {
   "cell_type": "code",
   "execution_count": null,
   "metadata": {},
   "outputs": [],
   "source": [
    "import numpy as np # library to handle data in a vectorized manner\n",
    "\n",
    "import pandas as pd # library for data analsysis\n",
    "pd.set_option('display.max_columns', None)\n",
    "pd.set_option('display.max_rows', None)\n",
    "\n",
    "import json # library to handle JSON files\n",
    "\n",
    "#!conda install -c conda-forge geopy --yes # uncomment this line if you haven't completed the Foursquare API lab\n",
    "from geopy.geocoders import Nominatim # convert an address into latitude and longitude values\n",
    "\n",
    "import requests # library to handle requests\n",
    "from pandas.io.json import json_normalize # tranform JSON file into a pandas dataframe\n",
    "\n",
    "# Matplotlib and associated plotting modules\n",
    "import matplotlib.cm as cm\n",
    "import matplotlib.colors as colors\n",
    "import matplotlib.pyplot as plt\n",
    "\n",
    "# import k-means from clustering stage\n",
    "from sklearn.cluster import KMeans\n",
    "\n",
    "from sklearn.metrics import silhouette_score\n",
    "\n",
    "#!conda install -c conda-forge folium=0.5.0 --yes # uncomment this line if you haven't completed the Foursquare API lab\n",
    "import folium # map rendering library\n",
    "\n",
    "print('Libraries imported.')"
   ]
  },
  {
   "cell_type": "markdown",
   "metadata": {},
   "source": [
    "## 1. Download and Explore Dataset"
   ]
  },
  {
   "cell_type": "markdown",
   "metadata": {},
   "source": [
    "Neighborhood has a total of 5 boroughs and 306 neighborhoods. In order to segement the neighborhoods and explore them, we will essentially need a dataset that contains the 5 boroughs and the neighborhoods that exist in each borough as well as the latitude and logitude coordinates of each neighborhood."
   ]
  },
  {
   "cell_type": "markdown",
   "metadata": {},
   "source": [
    "***Load and explore the data***"
   ]
  },
  {
   "cell_type": "code",
   "execution_count": null,
   "metadata": {},
   "outputs": [],
   "source": [
    "NYC_Geo=pd.read_csv('BON1_NYC_GEO.csv')\n",
    "print('Data downloaded!')"
   ]
  },
  {
   "cell_type": "code",
   "execution_count": null,
   "metadata": {},
   "outputs": [],
   "source": [
    "NYC_Geo.head()"
   ]
  },
  {
   "cell_type": "code",
   "execution_count": null,
   "metadata": {},
   "outputs": [],
   "source": [
    "NYC_Geo['Borough'].value_counts().to_frame()"
   ]
  },
  {
   "cell_type": "code",
   "execution_count": null,
   "metadata": {},
   "outputs": [],
   "source": [
    "print(NYC_Geo.Borough.unique())"
   ]
  },
  {
   "cell_type": "code",
   "execution_count": null,
   "metadata": {},
   "outputs": [],
   "source": [
    "NYC_Geo.isnull().sum()"
   ]
  },
  {
   "cell_type": "markdown",
   "metadata": {},
   "source": [
    "### Segmenting and Clustering Neighborhoods -  Brooklyn and Manhattan"
   ]
  },
  {
   "cell_type": "code",
   "execution_count": null,
   "metadata": {},
   "outputs": [],
   "source": [
    "BM_Geo = NYC_Geo.loc[(NYC_Geo['Borough'] == 'Brooklyn')|(NYC_Geo['Borough'] == 'Manhattan')]\n",
    "BM_Geo = BM_Geo.reset_index(drop=True)\n",
    "BM_Geo.head()"
   ]
  },
  {
   "cell_type": "markdown",
   "metadata": {},
   "source": [
    "***Use geopy library to get the latitude and longitude values of New York City. The geograpical coordinate of New York City are 40.7308619, -73.9871558..***"
   ]
  },
  {
   "cell_type": "code",
   "execution_count": null,
   "metadata": {},
   "outputs": [],
   "source": [
    "import time\n",
    "start_time = time.time()\n",
    "\n",
    "address = 'New York City, NY'\n",
    "\n",
    "geolocator = Nominatim(user_agent=\"Jupyter\")\n",
    "location = geolocator.geocode(address)\n",
    "latitude = location.latitude\n",
    "longitude = location.longitude\n",
    "print('The geograpical coordinate of New York City are {}, {}.'.format(latitude, longitude))\n",
    "\n",
    "print(\"--- %s seconds ---\" % round((time.time() - start_time), 2))"
   ]
  },
  {
   "cell_type": "markdown",
   "metadata": {},
   "source": [
    "***Create a map of Brooklyn  and Manhattan with neighborhoods superimposed on top.***"
   ]
  },
  {
   "cell_type": "code",
   "execution_count": null,
   "metadata": {},
   "outputs": [],
   "source": [
    "# create map of Toronto using latitude and longitude values\n",
    "map_BM = folium.Map(location=[latitude, longitude], zoom_start=10)\n",
    "\n",
    "# add markers to map\n",
    "for lat, lng, borough, neighborhood in zip(BM_Geo['Latitude'], BM_Geo['Longitude'], BM_Geo['Borough'], BM_Geo['Neighborhood']):\n",
    "    label = '{}, {}'.format(neighborhood, borough)\n",
    "    label = folium.Popup(label, parse_html=True)\n",
    "    folium.CircleMarker(\n",
    "        [lat, lng],\n",
    "        radius=5,\n",
    "        popup=label,\n",
    "        color='blue',\n",
    "        fill=True,\n",
    "        fill_color='#3186cc',\n",
    "        fill_opacity=0.7,\n",
    "        parse_html=False).add_to(map_BM)  \n",
    "    \n",
    "map_BM"
   ]
  },
  {
   "cell_type": "markdown",
   "metadata": {},
   "source": [
    "***Define Foursquare Credentials and Version***"
   ]
  },
  {
   "cell_type": "code",
   "execution_count": null,
   "metadata": {},
   "outputs": [],
   "source": [
    "CLIENT_ID = 'HRLI4MFHLW3AAVJWYEIV0S5FMYQGXOQ4X5KUR4ITSLQMHDTA' # your Foursquare ID\n",
    "CLIENT_SECRET = 'XEQ4N04HUCELGZXLDDIVHN5VVNRCUYZR3JJ5SIFQ30JKPFAB' # your Foursquare Secret\n",
    "VERSION = '20181218' # Foursquare API version\n",
    "\n",
    "print('Your credentails:')\n",
    "print('CLIENT_ID: ' + CLIENT_ID)\n",
    "print('CLIENT_SECRET:' + CLIENT_SECRET)"
   ]
  },
  {
   "cell_type": "markdown",
   "metadata": {},
   "source": [
    "## 2. Explore Neighborhoods in Brooklyn and Manhattan"
   ]
  },
  {
   "cell_type": "markdown",
   "metadata": {},
   "source": [
    "#### Extract Venues data for each neighborhoods in Brooklyn"
   ]
  },
  {
   "cell_type": "code",
   "execution_count": null,
   "metadata": {},
   "outputs": [],
   "source": [
    "def getNearbyVenues(names, latitudes, longitudes, LIMIT=200, radius=1000):\n",
    "    \n",
    "    venues_list=[]\n",
    "    for name, lat, lng in zip(names, latitudes, longitudes):\n",
    "        print(name)\n",
    "            \n",
    "        # create the API request URL\n",
    "        url = 'https://api.foursquare.com/v2/venues/explore?&client_id={}&client_secret={}&v={}&ll={},{}&radius={}&limit={}'.format(\n",
    "            CLIENT_ID, \n",
    "            CLIENT_SECRET, \n",
    "            VERSION, \n",
    "            lat, \n",
    "            lng, \n",
    "            radius, \n",
    "            LIMIT)\n",
    "            \n",
    "        # make the GET request\n",
    "        results = requests.get(url).json()[\"response\"]['groups'][0]['items']\n",
    "        \n",
    "        # return only relevant information for each nearby venue\n",
    "        venues_list.append([(\n",
    "            name, \n",
    "            lat, \n",
    "            lng, \n",
    "            v['venue']['name'], \n",
    "            v['venue']['location']['lat'], \n",
    "            v['venue']['location']['lng'],  \n",
    "            v['venue']['categories'][0]['name']) for v in results])\n",
    "\n",
    "    nearby_venues = pd.DataFrame([item for venue_list in venues_list for item in venue_list])\n",
    "    nearby_venues.columns = ['Neighborhood', \n",
    "                  'Neighborhood Latitude', \n",
    "                  'Neighborhood Longitude', \n",
    "                  'Venue', \n",
    "                  'Venue Latitude', \n",
    "                  'Venue Longitude', \n",
    "                  'Venue Category']\n",
    "    \n",
    "    return(nearby_venues)"
   ]
  },
  {
   "cell_type": "markdown",
   "metadata": {},
   "source": [
    "***Run the above function on each neighborhood and create a new dataframe called BM_venues.***"
   ]
  },
  {
   "cell_type": "code",
   "execution_count": null,
   "metadata": {},
   "outputs": [],
   "source": [
    "BM_venues = getNearbyVenues(names=BM_Geo['Neighborhood'],\n",
    "                                  latitudes=BM_Geo['Latitude'],\n",
    "                                  longitudes=BM_Geo['Longitude'],\n",
    "                                  LIMIT=200)\n",
    "\n",
    "print('The \"BM_venues\" dataframe has {} venues and {} unique venue types.'.format(\n",
    "      len(BM_venues['Venue Category']),\n",
    "      len(BM_venues['Venue Category'].unique())))\n",
    "\n",
    "BM_venues.to_csv('BM_venues.csv', sep=',', encoding='UTF8')\n",
    "BM_venues.head()"
   ]
  },
  {
   "cell_type": "markdown",
   "metadata": {},
   "source": [
    "***Download data from BM_venues.csv***"
   ]
  },
  {
   "cell_type": "code",
   "execution_count": null,
   "metadata": {},
   "outputs": [],
   "source": [
    "colnames = ['Neighborhood', 'Neighborhood Latitude', 'Neighborhood Longitude', 'Venue', 'Venue Latitude', 'Venue Longitude', 'Venue Category']\n",
    "BM_venues = pd.read_csv('BM_venues.csv', skiprows=1, names=colnames)\n",
    "BM_venues.columns = BM_venues.columns.str.replace(' ', '')\n",
    "BM_venues.head()"
   ]
  },
  {
   "cell_type": "markdown",
   "metadata": {},
   "source": [
    "***Visualize the BM_Venues data***"
   ]
  },
  {
   "cell_type": "code",
   "execution_count": null,
   "metadata": {},
   "outputs": [],
   "source": [
    "def Venues_Map(Borough_name, Borough_neighborhoods):\n",
    "    \n",
    "    # Use geopy library to get the latitude and longitude values \n",
    "    geolocator = Nominatim(user_agent=\"Jupyter\")\n",
    "    Borough_location = geolocator.geocode(Borough_name) #'Brooklyn, NY'\n",
    "    Borough_latitude = Borough_location.latitude\n",
    "    Borough_longitude = Borough_location.longitude\n",
    "    print('The geographical coordinates of \"{}\" are {}, {}.'.format(Borough_name, Borough_latitude, Borough_longitude))\n",
    "    \n",
    "    # To verify the number of Boroughs and Neighborhoods in the extracted data\n",
    "    print('The \"{}\" dataframe has {} different venue types and {} neighborhoods.'.format(\n",
    "          Borough_name,\n",
    "          len(Borough_neighborhoods['VenueCategory'].unique()),\n",
    "          len(Borough_neighborhoods['Neighborhood'].unique())))\n",
    "    \n",
    "    # create map of city using latitude and longitude values\n",
    "    map_Borough = folium.Map(location=[Borough_latitude, Borough_longitude], zoom_start=10)\n",
    "\n",
    "    # add markers to map\n",
    "    for lat, lng, venue, category in zip(Borough_neighborhoods['VenueLatitude'], Borough_neighborhoods['VenueLongitude'], Borough_neighborhoods['Venue'], Borough_neighborhoods['VenueCategory']):\n",
    "        label = '{}, {}'.format(category, venue)\n",
    "        label = folium.Popup(label, parse_html=True)\n",
    "        folium.CircleMarker(\n",
    "            [lat, lng],\n",
    "            radius=0.1,\n",
    "            popup=label,\n",
    "            color='red',\n",
    "            fill=True,\n",
    "            fill_color='#FF0000',\n",
    "            fill_opacity=0.3).add_to(map_Borough)  \n",
    "\n",
    "    return map_Borough"
   ]
  },
  {
   "cell_type": "code",
   "execution_count": null,
   "metadata": {},
   "outputs": [],
   "source": [
    "Venues_Map('New York City, NY', BM_venues)"
   ]
  },
  {
   "cell_type": "code",
   "execution_count": null,
   "metadata": {},
   "outputs": [],
   "source": [
    "BM_venues.groupby('VenueCategory')['Venue'].count().sort_values(ascending=False)"
   ]
  },
  {
   "cell_type": "markdown",
   "metadata": {},
   "source": [
    "***Check how many venues were returned for each neighborhood***"
   ]
  },
  {
   "cell_type": "code",
   "execution_count": null,
   "metadata": {},
   "outputs": [],
   "source": [
    "BM_venues.groupby('Neighborhood').count()"
   ]
  },
  {
   "cell_type": "markdown",
   "metadata": {},
   "source": [
    "***Find out how many unique categories can be curated from all the returned venues***"
   ]
  },
  {
   "cell_type": "code",
   "execution_count": null,
   "metadata": {},
   "outputs": [],
   "source": [
    "print('There are {} uniques categories.'.format(len(BM_venues['VenueCategory'].unique())))"
   ]
  },
  {
   "cell_type": "markdown",
   "metadata": {},
   "source": [
    "## 3. Analyze Each Neighborhood"
   ]
  },
  {
   "cell_type": "code",
   "execution_count": null,
   "metadata": {},
   "outputs": [],
   "source": [
    "# one hot encoding\n",
    "BM_onehot = pd.get_dummies(BM_venues[['VenueCategory']], prefix=\"\", prefix_sep=\"\")\n",
    "\n",
    "#column lists before adding neighborhood\n",
    "column_names = ['Neighborhood'] + list(BM_onehot.columns)\n",
    "\n",
    "# add neighborhood column back to dataframe\n",
    "BM_onehot['Neighborhood'] = BM_venues['Neighborhood'] \n",
    "\n",
    "# move neighborhood column to the first column\n",
    "BM_onehot = BM_onehot[column_names]\n",
    "\n",
    "BM_onehot.head()"
   ]
  },
  {
   "cell_type": "markdown",
   "metadata": {},
   "source": [
    "***To filter only Restaurant data***"
   ]
  },
  {
   "cell_type": "code",
   "execution_count": null,
   "metadata": {},
   "outputs": [],
   "source": [
    "restaurant_List = []\n",
    "search = 'Restaurant'\n",
    "for i in BM_onehot.columns :\n",
    "    if search in i:\n",
    "        restaurant_List.append(i)"
   ]
  },
  {
   "cell_type": "code",
   "execution_count": null,
   "metadata": {},
   "outputs": [],
   "source": [
    "col_name = []\n",
    "col_name = ['Neighborhood'] + restaurant_List\n",
    "BM_restaurant = BM_onehot[col_name]\n",
    "BM_restaurant = BM_restaurant.iloc[:,1::]"
   ]
  },
  {
   "cell_type": "code",
   "execution_count": null,
   "metadata": {},
   "outputs": [],
   "source": [
    "BM_restaurant_grouped = BM_restaurant.groupby('Neighborhood').sum().reset_index()"
   ]
  },
  {
   "cell_type": "code",
   "execution_count": null,
   "metadata": {},
   "outputs": [],
   "source": [
    "BM_restaurant_grouped['Total'] = BM_restaurant_grouped .sum(axis=1)"
   ]
  },
  {
   "cell_type": "markdown",
   "metadata": {},
   "source": [
    "## 4. Cluster Neighborhoods and Examine Clusters"
   ]
  },
  {
   "cell_type": "markdown",
   "metadata": {},
   "source": [
    "***First, let's determine the optimal value of K for our dataset using the Silhouette Coefficient Method***"
   ]
  },
  {
   "cell_type": "markdown",
   "metadata": {},
   "source": [
    "***From sklearn documentation - https://scikit-learn.org/stable/modules/clustering.html#silhouette-coefficient***\n",
    "\n",
    "A higher Silhouette Coefficient score relates to a model with better-defined clusters. The Silhouette Coefficient is defined for each sample and is composed of two scores: `\n",
    "\n",
    "    a: The mean distance between a sample and all other points in the same class.\n",
    "\n",
    "    b: The mean distance between a sample and all other points in the next nearest cluster.\n",
    "\n",
    "The Silhouette Coefficient is for a single sample is then given as:\n",
    "\n",
    "s=b-a/max(a,b)\n",
    "\n",
    "Now, to find the optimal value of k for KMeans, loop through 1..n for n_clusters in KMeans and calculate Silhouette Coefficient for each sample.\n",
    "\n",
    "A higher Silhouette Coefficient indicates that the object is well matched to its own cluster and poorly matched to neighboring clusters."
   ]
  },
  {
   "cell_type": "code",
   "execution_count": null,
   "metadata": {},
   "outputs": [],
   "source": [
    "BM_grouped_clustering = BM_restaurant_grouped.drop('Neighborhood', 1)\n",
    "\n",
    "for n_cluster in range(2, 10):\n",
    "    kmeans = KMeans(n_clusters=n_cluster).fit(BM_grouped_clustering)\n",
    "    label = kmeans.labels_\n",
    "    sil_coeff = silhouette_score(BM_grouped_clustering, label, metric='euclidean')\n",
    "    print(\"For n_clusters={}, The Silhouette Coefficient is {}\".format(n_cluster, sil_coeff))"
   ]
  },
  {
   "cell_type": "markdown",
   "metadata": {},
   "source": [
    "***As we can see, n_clusters=2 has highest Silhouette Coefficient. This means that 2 should be the optimal number of clusters.<br>\n",
    "For n_clusters=2, The Silhouette Coefficient is 0.4070573233323876***"
   ]
  },
  {
   "cell_type": "markdown",
   "metadata": {},
   "source": [
    "***Run k-means to cluster the neighborhood into 2 clusters.***"
   ]
  },
  {
   "cell_type": "code",
   "execution_count": null,
   "metadata": {},
   "outputs": [],
   "source": [
    "# set number of clusters\n",
    "kclusters = 2\n",
    "\n",
    "BM_grouped_clustering = BM_restaurant_grouped.drop('Neighborhood', 1)\n",
    "\n",
    "# run k-means clustering\n",
    "kmeans = KMeans(n_clusters=kclusters, random_state=0).fit(BM_grouped_clustering)\n",
    "\n",
    "# check cluster labels generated for each row in the dataframe\n",
    "kmeans.labels_"
   ]
  },
  {
   "cell_type": "code",
   "execution_count": null,
   "metadata": {},
   "outputs": [],
   "source": [
    "BM_results = pd.DataFrame(kmeans.cluster_centers_)\n",
    "BM_results.columns = BM_grouped_clustering.columns\n",
    "BM_results.index = ['cluster0','cluster1']\n",
    "BM_results['Total Sum'] = BM_results.sum(axis = 1)\n",
    "BM_results"
   ]
  },
  {
   "cell_type": "markdown",
   "metadata": {},
   "source": [
    "The Total and Total Sum of cluster0 has smallest value. It shows that the market is not saturated."
   ]
  },
  {
   "cell_type": "markdown",
   "metadata": {},
   "source": [
    "***Dataframe with Neighborhood,Cluster No and Total Sum***"
   ]
  },
  {
   "cell_type": "code",
   "execution_count": null,
   "metadata": {},
   "outputs": [],
   "source": [
    "BM_results_merged = pd.DataFrame(BM_restaurant_grouped['Neighborhood'])\n",
    "\n",
    "BM_results_merged['Total'] = BM_restaurant_grouped['Total']\n",
    "BM_results_merged = BM_results_merged.assign(Cluster_Labels = kmeans.labels_)"
   ]
  },
  {
   "cell_type": "code",
   "execution_count": null,
   "metadata": {},
   "outputs": [],
   "source": [
    "print(BM_results_merged.shape)\n",
    "#BM_results_merged"
   ]
  },
  {
   "cell_type": "markdown",
   "metadata": {},
   "source": [
    "***Merge BM_results_merged with BM_Geo***"
   ]
  },
  {
   "cell_type": "code",
   "execution_count": null,
   "metadata": {},
   "outputs": [],
   "source": [
    "BM_merged = BM_Geo\n",
    "\n",
    "BM_merged = BM_merged.join(BM_results_merged.set_index('Neighborhood'), on='Neighborhood')\n",
    "\n",
    "print(BM_merged.shape)\n",
    "BM_merged.head(10) # check the last columns!"
   ]
  },
  {
   "cell_type": "markdown",
   "metadata": {},
   "source": [
    "***Finally, let's visualize the resulting clusters***"
   ]
  },
  {
   "cell_type": "code",
   "execution_count": null,
   "metadata": {},
   "outputs": [],
   "source": [
    "# create map\n",
    "map_clusters = folium.Map(location=[latitude, longitude], zoom_start=11)\n",
    "\n",
    "# set color scheme for the clusters\n",
    "x = np.arange(kclusters)\n",
    "ys = [i+x+(i*x)**2 for i in range(kclusters)]\n",
    "colors_array = cm.rainbow(np.linspace(0, 1, len(ys)))\n",
    "rainbow = [colors.rgb2hex(i) for i in colors_array]\n",
    "\n",
    "# add markers to the map\n",
    "markers_colors = []\n",
    "for lat, lon, poi, cluster in zip(BM_merged['Latitude'], BM_merged['Longitude'], BM_merged['Neighborhood'], BM_merged['Cluster_Labels']):\n",
    "    label = folium.Popup(str(poi) + ' Cluster ' + str(cluster), parse_html=True)\n",
    "    folium.CircleMarker(\n",
    "        [lat, lon],\n",
    "        radius=5,\n",
    "        popup=label,\n",
    "        color=rainbow[cluster-1],\n",
    "        fill=True,\n",
    "        fill_color=rainbow[cluster-1],\n",
    "        fill_opacity=0.7).add_to(map_clusters)\n",
    "       \n",
    "map_clusters"
   ]
  },
  {
   "cell_type": "markdown",
   "metadata": {},
   "source": [
    "## List Neighborhoods of Interest in New York City"
   ]
  },
  {
   "cell_type": "markdown",
   "metadata": {},
   "source": [
    "## Cluster 1 : Saturated Markets"
   ]
  },
  {
   "cell_type": "code",
   "execution_count": null,
   "metadata": {},
   "outputs": [],
   "source": [
    "BM_merged[BM_merged['Cluster_Labels'] == 1].reset_index(drop=True)"
   ]
  },
  {
   "cell_type": "markdown",
   "metadata": {},
   "source": [
    "## Cluster 0 : Untapped Markets"
   ]
  },
  {
   "cell_type": "code",
   "execution_count": null,
   "metadata": {},
   "outputs": [],
   "source": [
    "BM_merged[BM_merged['Total'] == 0].reset_index(drop=True)"
   ]
  },
  {
   "cell_type": "markdown",
   "metadata": {},
   "source": [
    "***There are no Untapped Markets for Restaurant business in Brooklyn and Manhattan.***"
   ]
  },
  {
   "cell_type": "markdown",
   "metadata": {},
   "source": [
    "### Part 5B Segmenting and Clustering Neighborhoods -  Bronx, Queens and Staten Island"
   ]
  },
  {
   "cell_type": "markdown",
   "metadata": {},
   "source": [
    "## Introduction\n",
    "\n",
    "In this section of the capstone project, we will use the Foursquare API to explore neighborhoods in Bronx, Queens and Staten Island."
   ]
  },
  {
   "cell_type": "markdown",
   "metadata": {},
   "source": [
    "## Table of Contents<Br>\n",
    "\n",
    "***1. Download and Explore Dataset***<Br>\n",
    "***2. Explore Neighborhoods in  Bronx, Queens and Staten Island***<Br>\n",
    "***3. Analyze Each Neighborhood***<Br>\n",
    "***4. Cluster Neighborhoods and Examine Clusters***<Br>"
   ]
  },
  {
   "cell_type": "markdown",
   "metadata": {},
   "source": [
    "## 1. Download and Explore Dataset"
   ]
  },
  {
   "cell_type": "code",
   "execution_count": null,
   "metadata": {},
   "outputs": [],
   "source": [
    "BQS_Geo = NYC_Geo.loc[(NYC_Geo['Borough'] == 'Bronx')|(NYC_Geo['Borough'] == 'Queens')|(NYC_Geo['Borough'] == 'Staten Island')]\n",
    "BQS_Geo = BQS_Geo.reset_index(drop=True)\n",
    "BQS_Geo.head()"
   ]
  },
  {
   "cell_type": "code",
   "execution_count": null,
   "metadata": {},
   "outputs": [],
   "source": [
    "BQS_Geo.shape"
   ]
  },
  {
   "cell_type": "markdown",
   "metadata": {},
   "source": [
    "***Create a map of Bronx, Queens and Staten Island with neighborhoods superimposed on top.***"
   ]
  },
  {
   "cell_type": "code",
   "execution_count": null,
   "metadata": {},
   "outputs": [],
   "source": [
    "# create map of Toronto using latitude and longitude values\n",
    "map_BQS = folium.Map(location=[latitude, longitude], zoom_start=10)\n",
    "\n",
    "# add markers to map\n",
    "for lat, lng, borough, neighborhood in zip(BQS_Geo['Latitude'], BQS_Geo['Longitude'], BQS_Geo['Borough'], BQS_Geo['Neighborhood']):\n",
    "    label = '{}, {}'.format(neighborhood, borough)\n",
    "    label = folium.Popup(label, parse_html=True)\n",
    "    folium.CircleMarker(\n",
    "        [lat, lng],\n",
    "        radius=5,\n",
    "        popup=label,\n",
    "        color='blue',\n",
    "        fill=True,\n",
    "        fill_color='#3186cc',\n",
    "        fill_opacity=0.7,\n",
    "        parse_html=False).add_to(map_BQS)  \n",
    "    \n",
    "map_BQS"
   ]
  },
  {
   "cell_type": "markdown",
   "metadata": {},
   "source": [
    "## 2. Explore Neighborhoods in  Bronx, Queens and Staten Island¶"
   ]
  },
  {
   "cell_type": "markdown",
   "metadata": {},
   "source": [
    "***Run the above function on each neighborhood and create a new dataframe called BQS_venues.***"
   ]
  },
  {
   "cell_type": "code",
   "execution_count": null,
   "metadata": {},
   "outputs": [],
   "source": [
    "BQS_venues = getNearbyVenues(names=BQS_Geo['Neighborhood'],\n",
    "                                  latitudes=BQS_Geo['Latitude'],\n",
    "                                  longitudes=BQS_Geo['Longitude'],\n",
    "                                  LIMIT=200)\n",
    "\n",
    "print('The \"BQS_venues\" dataframe has {} venues and {} unique venue types.'.format(\n",
    "      len(BQS_venues['Venue Category']),\n",
    "      len(BQS_venues['Venue Category'].unique())))\n",
    "\n",
    "BQS_venues.to_csv('BQS_venues.csv', sep=',', encoding='UTF8')\n",
    "BQS_venues.head()"
   ]
  },
  {
   "cell_type": "markdown",
   "metadata": {},
   "source": [
    "***Download data from Brooklyn_venues.csv***"
   ]
  },
  {
   "cell_type": "code",
   "execution_count": null,
   "metadata": {},
   "outputs": [],
   "source": [
    "colnames = ['Neighborhood', 'Neighborhood Latitude', 'Neighborhood Longitude', 'Venue', 'Venue Latitude', 'Venue Longitude', 'Venue Category']\n",
    "BQS_venues = pd.read_csv('BQS_venues.csv', skiprows=1, names=colnames)\n",
    "BQS_venues.columns = BQS_venues.columns.str.replace(' ', '')\n",
    "BQS_venues.head()"
   ]
  },
  {
   "cell_type": "markdown",
   "metadata": {},
   "source": [
    "***Visualize the BQS_Venues data***"
   ]
  },
  {
   "cell_type": "code",
   "execution_count": null,
   "metadata": {},
   "outputs": [],
   "source": [
    "Venues_Map('New York City, NY', BQS_venues)"
   ]
  },
  {
   "cell_type": "code",
   "execution_count": null,
   "metadata": {},
   "outputs": [],
   "source": [
    "BQS_venues.groupby('VenueCategory')['Venue'].count().sort_values(ascending=False)"
   ]
  },
  {
   "cell_type": "markdown",
   "metadata": {},
   "source": [
    "***Let's check how many venues were returned for each neighborhood***"
   ]
  },
  {
   "cell_type": "code",
   "execution_count": null,
   "metadata": {},
   "outputs": [],
   "source": [
    "BQS_venues.groupby('Neighborhood').count()"
   ]
  },
  {
   "cell_type": "markdown",
   "metadata": {},
   "source": [
    "***Let's find out how many unique categories can be curated from all the returned venues***"
   ]
  },
  {
   "cell_type": "code",
   "execution_count": null,
   "metadata": {},
   "outputs": [],
   "source": [
    "print('There are {} uniques categories.'.format(len(BQS_venues['VenueCategory'].unique())))"
   ]
  },
  {
   "cell_type": "markdown",
   "metadata": {},
   "source": [
    "## 3. Analyze Each Neighborhood"
   ]
  },
  {
   "cell_type": "code",
   "execution_count": null,
   "metadata": {},
   "outputs": [],
   "source": [
    "# one hot encoding\n",
    "BQS_onehot = pd.get_dummies(BQS_venues[['VenueCategory']], prefix=\"\", prefix_sep=\"\")\n",
    "\n",
    "#column lists before adding neighborhood\n",
    "column_names = ['Neighborhood'] + list(BQS_onehot.columns)\n",
    "\n",
    "# add neighborhood column back to dataframe\n",
    "BQS_onehot['Neighborhood'] = BQS_venues['Neighborhood'] \n",
    "\n",
    "# move neighborhood column to the first column\n",
    "BQS_onehot = BQS_onehot[column_names]\n",
    "\n",
    "BQS_onehot.head()"
   ]
  },
  {
   "cell_type": "code",
   "execution_count": null,
   "metadata": {},
   "outputs": [],
   "source": [
    "restaurant_List1 = []\n",
    "search = 'Restaurant'\n",
    "for i in BQS_onehot.columns :\n",
    "    if search in i:\n",
    "        restaurant_List1.append(i)"
   ]
  },
  {
   "cell_type": "code",
   "execution_count": null,
   "metadata": {},
   "outputs": [],
   "source": [
    "restaurant_List1"
   ]
  },
  {
   "cell_type": "code",
   "execution_count": null,
   "metadata": {},
   "outputs": [],
   "source": [
    "col_name = []\n",
    "col_name = ['Neighborhood'] + restaurant_List1\n",
    "BQS_restaurant = BQS_onehot[col_name]\n",
    "BQS_restaurant = BQS_restaurant.iloc[:,1::]"
   ]
  },
  {
   "cell_type": "code",
   "execution_count": null,
   "metadata": {},
   "outputs": [],
   "source": [
    "BQS_restaurant_grouped = BQS_restaurant.groupby('Neighborhood').sum().reset_index()"
   ]
  },
  {
   "cell_type": "code",
   "execution_count": null,
   "metadata": {},
   "outputs": [],
   "source": [
    "BQS_restaurant_grouped['Total'] = BQS_restaurant_grouped .sum(axis=1)"
   ]
  },
  {
   "cell_type": "markdown",
   "metadata": {},
   "source": [
    "## 4. Cluster Neighborhoods and Examine Clusters"
   ]
  },
  {
   "cell_type": "markdown",
   "metadata": {},
   "source": [
    "***First, let's determine the optimal value of K for our dataset using the Silhouette Coefficient Method***"
   ]
  },
  {
   "cell_type": "code",
   "execution_count": null,
   "metadata": {},
   "outputs": [],
   "source": [
    "BQS_grouped_clustering = BQS_restaurant_grouped.drop('Neighborhood', 1)\n",
    "\n",
    "for n_cluster in range(2, 10):\n",
    "    kmeans = KMeans(n_clusters=n_cluster).fit(BQS_grouped_clustering)\n",
    "    label = kmeans.labels_\n",
    "    sil_coeff = silhouette_score(BQS_grouped_clustering, label, metric='euclidean')\n",
    "    print(\"For n_clusters={}, The Silhouette Coefficient is {}\".format(n_cluster, sil_coeff))"
   ]
  },
  {
   "cell_type": "markdown",
   "metadata": {},
   "source": [
    "***As we can see, n_clusters=2 has highest Silhouette Coefficient. This means that 2 should be the optimal number of clusters.<br>\n",
    "For n_clusters=2, The Silhouette Coefficient is 0.5480109689584506***"
   ]
  },
  {
   "cell_type": "markdown",
   "metadata": {},
   "source": [
    "***Run k-means to cluster the neighborhood into 2 clusters.***"
   ]
  },
  {
   "cell_type": "code",
   "execution_count": null,
   "metadata": {},
   "outputs": [],
   "source": [
    "# set number of clusters\n",
    "kclusters = 2\n",
    "\n",
    "BQS_grouped_clustering = BQS_restaurant_grouped.drop('Neighborhood', 1)\n",
    "\n",
    "# run k-means clustering\n",
    "kmeans = KMeans(n_clusters=kclusters, random_state=0).fit(BQS_grouped_clustering)\n",
    "\n",
    "# check cluster labels generated for each row in the dataframe\n",
    "kmeans.labels_"
   ]
  },
  {
   "cell_type": "code",
   "execution_count": null,
   "metadata": {},
   "outputs": [],
   "source": [
    "BQS_results = pd.DataFrame(kmeans.cluster_centers_)\n",
    "BQS_results.columns = BQS_grouped_clustering.columns\n",
    "BQS_results.index = ['cluster0','cluster1']\n",
    "BQS_results['Total Sum'] = BQS_results.sum(axis = 1)\n",
    "BQS_results"
   ]
  },
  {
   "cell_type": "markdown",
   "metadata": {},
   "source": [
    "The Total and Total Sum of cluster0 has smallest value. It shows that the market is not saturated."
   ]
  },
  {
   "cell_type": "markdown",
   "metadata": {},
   "source": [
    "***Dataframe with Neighborhood,Cluster No and Total Sum***"
   ]
  },
  {
   "cell_type": "code",
   "execution_count": null,
   "metadata": {},
   "outputs": [],
   "source": [
    "BQS_results_merged = pd.DataFrame(BQS_restaurant_grouped['Neighborhood'],)\n",
    "\n",
    "BQS_results_merged['Total'] = BQS_restaurant_grouped['Total']\n",
    "BQS_results_merged = BQS_results_merged.assign(Cluster_Labels = kmeans.labels_)"
   ]
  },
  {
   "cell_type": "code",
   "execution_count": null,
   "metadata": {},
   "outputs": [],
   "source": [
    "print(BQS_results_merged.shape)\n",
    "BQS_results_merged"
   ]
  },
  {
   "cell_type": "markdown",
   "metadata": {},
   "source": [
    "***Merge BQS_results_merged with BQS_Geo***"
   ]
  },
  {
   "cell_type": "code",
   "execution_count": null,
   "metadata": {},
   "outputs": [],
   "source": [
    "BQS_merged = BQS_Geo\n",
    "\n",
    "BQS_merged = BQS_merged.join(BQS_results_merged.set_index('Neighborhood'), on='Neighborhood')\n",
    "\n",
    "print(BQS_merged.shape)\n",
    "BQS_merged.head(10) # check the last columns!"
   ]
  },
  {
   "cell_type": "markdown",
   "metadata": {},
   "source": [
    "***Finally, let's visualize the resulting clusters***"
   ]
  },
  {
   "cell_type": "code",
   "execution_count": null,
   "metadata": {},
   "outputs": [],
   "source": [
    "# create map\n",
    "map_clusters = folium.Map(location=[latitude, longitude], zoom_start=11)\n",
    "\n",
    "# set color scheme for the clusters\n",
    "x = np.arange(kclusters)\n",
    "ys = [i+x+(i*x)**2 for i in range(kclusters)]\n",
    "colors_array = cm.rainbow(np.linspace(0, 1, len(ys)))\n",
    "rainbow = [colors.rgb2hex(i) for i in colors_array]\n",
    "\n",
    "# add markers to the map\n",
    "markers_colors = []\n",
    "for lat, lon, poi, cluster in zip(BQS_merged['Latitude'], BQS_merged['Longitude'], BQS_merged['Neighborhood'], BQS_merged['Cluster_Labels']):\n",
    "    label = folium.Popup(str(poi) + ' Cluster ' + str(cluster), parse_html=True)\n",
    "    folium.CircleMarker(\n",
    "        [lat, lon],\n",
    "        radius=5,\n",
    "        popup=label,\n",
    "        color=rainbow[cluster-1],\n",
    "        fill=True,\n",
    "        fill_color=rainbow[cluster-1],\n",
    "        fill_opacity=0.7).add_to(map_clusters)\n",
    "       \n",
    "map_clusters"
   ]
  },
  {
   "cell_type": "markdown",
   "metadata": {},
   "source": [
    "## List Neighborhoods of Interest in New York City - Bronx, Queens and Staten Island"
   ]
  },
  {
   "cell_type": "markdown",
   "metadata": {},
   "source": [
    "## Cluster 1 : Saturated Markets"
   ]
  },
  {
   "cell_type": "code",
   "execution_count": null,
   "metadata": {},
   "outputs": [],
   "source": [
    "BQS_merged[BQS_merged['Cluster_Labels'] == 1].reset_index(drop=True)"
   ]
  },
  {
   "cell_type": "markdown",
   "metadata": {},
   "source": [
    "## Cluster 0 : Untapped Markets"
   ]
  },
  {
   "cell_type": "code",
   "execution_count": null,
   "metadata": {},
   "outputs": [],
   "source": [
    "BQS_merged[BQS_merged['Total'] == 0].reset_index(drop=True)"
   ]
  }
 ],
 "metadata": {
  "kernelspec": {
   "display_name": "Python 3",
   "language": "python",
   "name": "python3"
  },
  "language_info": {
   "codemirror_mode": {
    "name": "ipython",
    "version": 3
   },
   "file_extension": ".py",
   "mimetype": "text/x-python",
   "name": "python",
   "nbconvert_exporter": "python",
   "pygments_lexer": "ipython3",
   "version": "3.7.3"
  }
 },
 "nbformat": 4,
 "nbformat_minor": 1
}
